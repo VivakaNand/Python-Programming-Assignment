{
 "cells": [
  {
   "cell_type": "markdown",
   "metadata": {},
   "source": [
    "# Certified Python Programming\n",
    "\n",
    "## Python Assignment # 5"
   ]
  },
  {
   "cell_type": "markdown",
   "metadata": {},
   "source": [
    "**Question:1**\n",
    "    \n",
    "Write a Python function to calculate the factorial of a number (a non-negative\n",
    "integer). The function accepts the number as an argument."
   ]
  },
  {
   "cell_type": "code",
   "execution_count": 4,
   "metadata": {},
   "outputs": [
    {
     "name": "stdout",
     "output_type": "stream",
     "text": [
      "Input a number to compute the factiorial : 13\n",
      "6227020800\n"
     ]
    }
   ],
   "source": [
    "def factorial(n):\n",
    "    if n == 0:\n",
    "        return 1\n",
    "    else:\n",
    "        return n * factorial(n-1)\n",
    "n=int(input(\"Input a number to compute the factiorial : \"))\n",
    "print(factorial(n))"
   ]
  },
  {
   "cell_type": "markdown",
   "metadata": {},
   "source": [
    "**Question:2**\n",
    "    \n",
    "Write a Python function that accepts a string and calculate the number of upper\n",
    "case letters and lower case letters."
   ]
  },
  {
   "cell_type": "code",
   "execution_count": 5,
   "metadata": {},
   "outputs": [
    {
     "name": "stdout",
     "output_type": "stream",
     "text": [
      "Original String :  The quick Brown Fox\n",
      "No. of Upper case characters :  3\n",
      "No. of Lower case Characters :  13\n"
     ]
    }
   ],
   "source": [
    "def string_test(s):\n",
    "    d={\"UPPER_CASE\":0, \"LOWER_CASE\":0}\n",
    "    for c in s:\n",
    "        if c.isupper():\n",
    "            d[\"UPPER_CASE\"]+=1\n",
    "        elif c.islower():\n",
    "            d[\"LOWER_CASE\"]+=1\n",
    "        else:\n",
    "            pass\n",
    "    print (\"Original String : \", s)\n",
    "    print (\"No. of Upper case characters : \", d[\"UPPER_CASE\"])\n",
    "    print (\"No. of Lower case Characters : \", d[\"LOWER_CASE\"])\n",
    "\n",
    "string_test('The quick Brown Fox')"
   ]
  },
  {
   "cell_type": "markdown",
   "metadata": {},
   "source": [
    "**Question:3**\n",
    "    \n",
    "Write a Python function to print the even numbers from a given list."
   ]
  },
  {
   "cell_type": "code",
   "execution_count": 6,
   "metadata": {},
   "outputs": [
    {
     "name": "stdout",
     "output_type": "stream",
     "text": [
      "10 4 66 "
     ]
    }
   ],
   "source": [
    "# Python program to print Even Numbers in a List \n",
    "\n",
    "# list of numbers \n",
    "list1 = [10, 21, 4, 45, 66, 93] \n",
    "\n",
    "# iterating each number in list \n",
    "for num in list1: \n",
    "\n",
    "    # checking condition \n",
    "    if num % 2 == 0: \n",
    "        print(num, end = \" \") "
   ]
  },
  {
   "cell_type": "markdown",
   "metadata": {},
   "source": [
    "**Question:4**\n",
    "    \n",
    "Write a Python function that checks whether a passed string is palindrome or not.\n",
    "Note: A palindrome is a word, phrase, or sequence that reads the same\n",
    "backward as forward, e.g., madam"
   ]
  },
  {
   "cell_type": "code",
   "execution_count": 7,
   "metadata": {},
   "outputs": [
    {
     "name": "stdout",
     "output_type": "stream",
     "text": [
      "True\n"
     ]
    }
   ],
   "source": [
    "def isPalindrome(string):\n",
    "    left_pos = 0\n",
    "    right_pos = len(string) - 1\n",
    "    \n",
    "    while right_pos >= left_pos:\n",
    "        if not string[left_pos] == string[right_pos]:\n",
    "            return False\n",
    "        left_pos += 1\n",
    "        right_pos -= 1\n",
    "    return True\n",
    "print(isPalindrome('aza')) "
   ]
  },
  {
   "cell_type": "markdown",
   "metadata": {},
   "source": [
    "**Question:5**\n",
    "    \n",
    "Write a Python function that takes a number as a parameter and check the\n",
    "number is prime or not."
   ]
  },
  {
   "cell_type": "code",
   "execution_count": 10,
   "metadata": {},
   "outputs": [
    {
     "name": "stdout",
     "output_type": "stream",
     "text": [
      "Enter Number:9\n",
      "9 Not a Prime Number\n"
     ]
    }
   ],
   "source": [
    "n = int(input('Enter Number:'))\n",
    "def test_prime(n):\n",
    "    if (n==1):\n",
    "        return str(n) + \" Not a Prime Number\"\n",
    "    elif (n==2):\n",
    "        return str(n) + \" is a Prime Number\"\n",
    "    else:\n",
    "        for x in range(2,n):\n",
    "            if(n % x==0):\n",
    "                return str(n) + \" Not a Prime Number\"\n",
    "        return str(n) + \" is a Prime Number\"             \n",
    "print(test_prime(n))"
   ]
  },
  {
   "cell_type": "markdown",
   "metadata": {},
   "source": [
    "**Question: 6**\n",
    "    \n",
    "Suppose a customer is shopping in a market and you need to print all the items\n",
    "which user bought from market.\n",
    "Write a function which accepts the multiple arguments of user shopping list and\n",
    "print all the items which user bought from market.\n",
    "(Hint: Arbitrary Argument concept can make this task ease)"
   ]
  },
  {
   "cell_type": "code",
   "execution_count": 11,
   "metadata": {},
   "outputs": [
    {
     "name": "stdout",
     "output_type": "stream",
     "text": [
      "\n",
      "Enter the item you bought from market \n",
      "If you leave enter'quit': banna\n",
      "\n",
      "Enter the item you bought from market \n",
      "If you leave enter'quit': apple\n",
      "\n",
      "Enter the item you bought from market \n",
      "If you leave enter'quit': tea\n",
      "\n",
      "Enter the item you bought from market \n",
      "If you leave enter'quit': grape\n",
      "\n",
      "Enter the item you bought from market \n",
      "If you leave enter'quit': orange\n",
      "\n",
      "Enter the item you bought from market \n",
      "If you leave enter'quit': chilli\n",
      "\n",
      "Enter the item you bought from market \n",
      "If you leave enter'quit': soap\n",
      "\n",
      "Enter the item you bought from market \n",
      "If you leave enter'quit': quit\n",
      "\n",
      "--------- Shopping List --------\n",
      "You bought:  ['banna', 'apple', 'tea', 'grape', 'orange', 'chilli', 'soap']\n"
     ]
    }
   ],
   "source": [
    "def customer_shopping(*shopping_list):\n",
    "    print(\"\\n--------- Shopping List --------\")    \n",
    "    for element in shopping_list:\n",
    "        print(\"You bought: \",element)\n",
    "\n",
    "shopping_list = []\n",
    "\n",
    "while True:\n",
    "    items = input(\"\\nEnter the item you bought from market \\nIf you leave enter'quit': \")\n",
    "    if items == 'quit':\n",
    "        break\n",
    "    shopping_list.append(items)\n",
    "\n",
    "customer_shopping(shopping_list)"
   ]
  },
  {
   "cell_type": "code",
   "execution_count": null,
   "metadata": {},
   "outputs": [],
   "source": []
  },
  {
   "cell_type": "code",
   "execution_count": null,
   "metadata": {},
   "outputs": [],
   "source": []
  },
  {
   "cell_type": "code",
   "execution_count": null,
   "metadata": {},
   "outputs": [],
   "source": []
  },
  {
   "cell_type": "code",
   "execution_count": null,
   "metadata": {},
   "outputs": [],
   "source": [
    "\"\"\"\n",
    "# This loop will go on until the budget is integer or float \n",
    "while True: \n",
    "    try: \n",
    "        bg = float(input(\"Enter your budget : \")) \n",
    "        # if budget is integer or float it will be stored \n",
    "        # temporarily in variable 's' \n",
    "        s = bg \n",
    "    except ValueError: \n",
    "        print(\"PRINT NUMBER AS A AMOUNT\") \n",
    "        continue\n",
    "    else: \n",
    "        break\n",
    "\n",
    "# dictionary to store product(\"name\"), quantity(\"quant\"), \n",
    "# price(\"price\") with empty list as their values \n",
    "a ={\"name\":[], \"quant\":[], \"price\":[]} \n",
    "\n",
    "# converting dictionary to list for further updation \n",
    "b = list(a.values()) \n",
    "\n",
    "# variable na value of \"name\" from dictionary 'a' \n",
    "na = b[0] \n",
    "\n",
    "# variable qu value of \"quant\" from dictionary 'a' \n",
    "qu = b[1] \n",
    "\n",
    "# variable pr value of \"price\" from dictionary 'a' \n",
    "pr = b[2] \n",
    "\n",
    "# This loop terminates when user select 2.EXIT option when asked \n",
    "# in try it will ask user for an option as an integer (1 or 2) \n",
    "# if correct then proceed else continue asking options \n",
    "while True: \n",
    "    try: \n",
    "        ch = int(input(\"1.ADD\\n2.EXIT\\nEnter your choice : \")) \n",
    "    except ValueError: \n",
    "        print(\"\\nERROR: Choose only digits from the given option\") \n",
    "        continue\n",
    "    else: \n",
    "        # check the budget is greater than zero and option selected \n",
    "        # by user is 1 i.e. to add an item \n",
    "        if ch == 1 and s>0:\t \n",
    "\n",
    "            # input products name \n",
    "            pn = input(\"Enter product name : \") \n",
    "            # input quantity of product \n",
    "            q = input(\"Enter quantity : \") \n",
    "            # input price of the product \n",
    "            p = float(input(\"Enter price of the product : \")) \n",
    "\n",
    "            if p>s: \n",
    "                # checks if price is less than budget \n",
    "                print(\"\\nCAN, T BUT THE PRODUCT\") \n",
    "                continue\n",
    "\n",
    "            else: \n",
    "                # checks if product name already in list \n",
    "                if pn in na: \n",
    "                    # find the index of that product \n",
    "                    ind = na.index(pn) \n",
    "\n",
    "                    # remove quantity from \"quant\" index of the product \n",
    "                    qu.remove(qu[ind]) \n",
    "\n",
    "                    # remove price from \"price\" index of the product \n",
    "                    pr.remove(pr[ind]) \n",
    "\n",
    "                    # insert new value given by user earlier \n",
    "                    qu.insert(ind, q) \n",
    "\n",
    "                    # insert new value given by user earlier \n",
    "                    pr.insert(ind, p) \n",
    "\n",
    "                    # subtracting the price from the budget and assign \n",
    "                    # it to 's' sum(pr) is because pr = [100, 200] if \n",
    "                    # budget is 500 then s = bg-sum(pr) = 200 \n",
    "                    # after updating for same product at index 0 let \n",
    "                    # pr = [200, 200] so s = 100 \n",
    "                    s = bg-sum(pr) \n",
    "\n",
    "                    print(\"\\namount left\", s) \n",
    "                else: \n",
    "                    # append value of in \"name\", \"quantity\", \"price\" \n",
    "                    na.append(pn) \n",
    "\n",
    "                    # as na = b[0] it will append all the value in the \n",
    "                    # list eg: \"name\":[\"rice\"] \n",
    "                    qu.append(q) \n",
    "\n",
    "                    # same for quantity and price \n",
    "                    pr.append(p)\t \n",
    "\n",
    "                    # after appending new value the sum in price \n",
    "                    # as to be calculated \n",
    "                    s = bg-sum(pr) \n",
    "\n",
    "                    print(\"\\namount left\", s) \n",
    "\n",
    "        # if budget goes zero print \"NO BUDGET\" \n",
    "        elif s<= 0: \n",
    "            print(\"\\nNO BUDGET\") \n",
    "        else: \n",
    "            break\n",
    "\n",
    "# will print amount left in variable 's' \n",
    "print(\"\\nAmount left : Rs.\", s) \n",
    "\n",
    "# if the amount left equals to any amount in price list \n",
    "if s in pr: \n",
    "    # then printing the name of the product which can buy \n",
    "    print(\"\\nAmount left can buy you a\", na[pr.index(s)]) \n",
    "\n",
    "print(\"\\n\\n\\nGROCERY LIST\") \n",
    "\n",
    "# print final grocery list \n",
    "for i in range(len(na)): \n",
    "    print(na[i], qu[i], pr[i]) \n",
    "    \n",
    "\"\"\"   "
   ]
  }
 ],
 "metadata": {
  "kernelspec": {
   "display_name": "Python 3",
   "language": "python",
   "name": "python3"
  },
  "language_info": {
   "codemirror_mode": {
    "name": "ipython",
    "version": 3
   },
   "file_extension": ".py",
   "mimetype": "text/x-python",
   "name": "python",
   "nbconvert_exporter": "python",
   "pygments_lexer": "ipython3",
   "version": "3.6.4"
  }
 },
 "nbformat": 4,
 "nbformat_minor": 2
}
