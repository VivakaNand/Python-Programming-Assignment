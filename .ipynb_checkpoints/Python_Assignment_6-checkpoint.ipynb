{
 "cells": [
  {
   "cell_type": "markdown",
   "metadata": {},
   "source": [
    "# Certified Python Programming\n",
    "\n",
    "## Assignment # 6"
   ]
  },
  {
   "cell_type": "markdown",
   "metadata": {},
   "source": [
    "**Question 1:**\n",
    "    \n",
    "Define Object Oriented Programming Language?"
   ]
  },
  {
   "cell_type": "markdown",
   "metadata": {},
   "source": [
    "**Answer:**\n",
    "\n",
    "Object-oriented programming (OOP) refers to a type of computer programming (software design) in which programmers define \n",
    "not only the data type of a data structure,but also the types of operations (functions) that can be applied to the data \n",
    "structure.    "
   ]
  },
  {
   "cell_type": "markdown",
   "metadata": {},
   "source": [
    "**Question 2:**\n",
    "    \n",
    "List down the Benefits of OOP?"
   ]
  },
  {
   "cell_type": "markdown",
   "metadata": {},
   "source": [
    "**Answer:**\n",
    "    \n",
    "1. Modularity for easier troubleshooting.\n",
    "2. Reuse of code through inheritance.\n",
    "3. Flexibility through polymorphism.\n",
    "4. Effective problem solving.    "
   ]
  },
  {
   "cell_type": "markdown",
   "metadata": {},
   "source": [
    "**Question 3:**\n",
    "    \n",
    "Differentiate between function and method?"
   ]
  },
  {
   "cell_type": "markdown",
   "metadata": {},
   "source": [
    "**Answer:**\n",
    "\n",
    "**Python Method**\n",
    "\n",
    "1. Method is called by its name, but it is associated to an object (dependent).\n",
    "2. A method is implicitly passed the object on which it is invoked.\n",
    "3. It may or may not return any data.\n",
    "4. A method can operate on the data (instance variables) that is contained by the corresponding class\n",
    "\n",
    "**Functions**\n",
    "\n",
    "1. Function is block of code that is also called by its name. (independent)\n",
    "2. The function can have different parameters or may not have any at all. If any data (parameters) are passed, they are passed explicitly.\n",
    "3. It may or may not return any data.\n",
    "4. Function does not deal with Class and its instance concept.\n"
   ]
  },
  {
   "cell_type": "markdown",
   "metadata": {},
   "source": [
    "**Question 4:**\n",
    "    \n",
    "Define the following terms:\n",
    "1. Class\n",
    "2. Object\n",
    "3. Attribute\n",
    "4. Behavior"
   ]
  },
  {
   "cell_type": "markdown",
   "metadata": {},
   "source": [
    "**Answer:**\n",
    "    \n",
    "**1. Class:**\n",
    "In object-oriented programming, a class is a blueprint for creating objects (a particular data structure), providing initial\n",
    "values for state (member variables or attributes), and implementations of behavior (member functions or methods). \n",
    "The user-defined objects are created using the class keyword Object.\n",
    "\n",
    "**2. Object:**\n",
    "Object is simply a collection of data (variables) and methods (functions) that act on those data. And, class is a blueprint \n",
    "for the object.\n",
    "\n",
    "**3. Attribute:**\n",
    "An attribute is a specification that defines a property of an object, element, or file.\n",
    "\n",
    "**4. Behavior:**\n",
    "The behavior of an object is defined by its methods, which are the functions and subroutines defined within the object class.\n",
    "Without class methods, a class would simply be a structure.\n"
   ]
  },
  {
   "cell_type": "markdown",
   "metadata": {},
   "source": [
    "**Question 5:**\n",
    "    \n",
    "Write a code in python in which create a class named it Car which have 5 attributes such like (model, color and name etc.) and 3\n",
    "methods. And create 5 object instance from that class."
   ]
  },
  {
   "cell_type": "code",
   "execution_count": 3,
   "metadata": {},
   "outputs": [
    {
     "name": "stdout",
     "output_type": "stream",
     "text": [
      "Make: Lamborgini\n",
      "Model: Enzo\n",
      "Color: dark silver\n",
      "Year: 2014\n",
      "Miles driven: 3500\n"
     ]
    }
   ],
   "source": [
    "class Car(object):  # no instance of this class should be created\n",
    "\n",
    "    def __init__(self, make, model, color, year, miles):\n",
    "        self.make = make\n",
    "        self.model = model\n",
    "        self.color = color.lower()\n",
    "        self.year = year\n",
    "        self.miles = miles\n",
    "\n",
    "    def car_print(self):\n",
    "            print('Make: ' + str(self.make))\n",
    "            print('Model: ' + str(self.model))\n",
    "            print('Color: ' + str(self.color))\n",
    "            print('Year: ' + str(self.year))\n",
    "            print('Miles driven: ' + str(self.miles))\n",
    "\n",
    "lambo = Car('Lamborgini', 'Enzo', 'dark silver', 2014, 3500)  # sportscar\n",
    "lambo.car_print()"
   ]
  },
  {
   "cell_type": "code",
   "execution_count": null,
   "metadata": {},
   "outputs": [],
   "source": []
  }
 ],
 "metadata": {
  "kernelspec": {
   "display_name": "Python 3",
   "language": "python",
   "name": "python3"
  },
  "language_info": {
   "codemirror_mode": {
    "name": "ipython",
    "version": 3
   },
   "file_extension": ".py",
   "mimetype": "text/x-python",
   "name": "python",
   "nbconvert_exporter": "python",
   "pygments_lexer": "ipython3",
   "version": "3.6.4"
  }
 },
 "nbformat": 4,
 "nbformat_minor": 2
}
